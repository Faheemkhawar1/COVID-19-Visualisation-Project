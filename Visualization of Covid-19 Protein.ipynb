{
 "cells": [
  {
   "cell_type": "code",
   "execution_count": 1,
   "id": "153c6524",
   "metadata": {},
   "outputs": [],
   "source": [
    "seq_id=\"pdb|7D4F|A\""
   ]
  },
  {
   "cell_type": "code",
   "execution_count": 2,
   "id": "8fda3a6a",
   "metadata": {},
   "outputs": [],
   "source": [
    "id=seq_id.split(\"|\")[1]"
   ]
  },
  {
   "cell_type": "code",
   "execution_count": 3,
   "id": "0647b382",
   "metadata": {},
   "outputs": [
    {
     "data": {
      "text/plain": [
       "'7D4F'"
      ]
     },
     "execution_count": 3,
     "metadata": {},
     "output_type": "execute_result"
    }
   ],
   "source": [
    "id"
   ]
  },
  {
   "cell_type": "code",
   "execution_count": 7,
   "id": "5f45d824",
   "metadata": {},
   "outputs": [
    {
     "name": "stderr",
     "output_type": "stream",
     "text": [
      "'wget' is not recognized as an internal or external command,\n",
      "operable program or batch file.\n"
     ]
    }
   ],
   "source": [
    "!wget https://files.rcsb.org/download/7D4F.pdb"
   ]
  },
  {
   "cell_type": "code",
   "execution_count": 9,
   "id": "8628ce15",
   "metadata": {},
   "outputs": [
    {
     "name": "stderr",
     "output_type": "stream",
     "text": [
      "  % Total    % Received % Xferd  Average Speed   Time    Time     Time  Current\n",
      "                                 Dload  Upload   Total   Spent    Left  Speed\n",
      "\n",
      "  0     0    0     0    0     0      0      0 --:--:-- --:--:-- --:--:--     0\n",
      "  0     0    0     0    0     0      0      0 --:--:-- --:--:-- --:--:--     0\n",
      "100  8192    0  8192    0     0   5742      0 --:--:--  0:00:01 --:--:--  5748\n",
      "100  298k    0  298k    0     0   130k      0 --:--:--  0:00:02 --:--:--  130k\n",
      "100  820k    0  820k    0     0   286k      0 --:--:--  0:00:02 --:--:--  286k\n"
     ]
    }
   ],
   "source": [
    "!curl -O \"https://files.rcsb.org/download/7D4F.pdb\""
   ]
  },
  {
   "cell_type": "markdown",
   "id": "a352cae3",
   "metadata": {},
   "source": [
    "# Reading PDB file with Biopython\n",
    "Bio.PDB is a Biopython module that focuses on working with crystal structures of biological macromolecules. Among other things, Bio.PDB includes a PDBParser class that produces a Structure object, which can be used to access the atomic data in the file in a convenient manner."
   ]
  },
  {
   "cell_type": "code",
   "execution_count": 10,
   "id": "570601e6",
   "metadata": {},
   "outputs": [],
   "source": [
    "from Bio.PDB import PDBParser"
   ]
  },
  {
   "cell_type": "code",
   "execution_count": 11,
   "id": "3071ebfa",
   "metadata": {},
   "outputs": [
    {
     "data": {
      "text/plain": [
       "<Structure id=7D4F>"
      ]
     },
     "execution_count": 11,
     "metadata": {},
     "output_type": "execute_result"
    }
   ],
   "source": [
    "parser= PDBParser()\n",
    "structure= parser.get_structure('7D4F','7D4F.pdb')\n",
    "structure"
   ]
  },
  {
   "cell_type": "code",
   "execution_count": 12,
   "id": "7ba6193e",
   "metadata": {},
   "outputs": [
    {
     "name": "stdout",
     "output_type": "stream",
     "text": [
      "Chain ID:  B\n",
      "Chain ID:  C\n",
      "Chain ID:  G\n",
      "Chain ID:  A\n"
     ]
    }
   ],
   "source": [
    "for chain in structure[0]:\n",
    "    print(\"Chain ID: \",chain.id)"
   ]
  },
  {
   "cell_type": "code",
   "execution_count": 20,
   "id": "22b9b86e",
   "metadata": {},
   "outputs": [
    {
     "name": "stdout",
     "output_type": "stream",
     "text": [
      "Requirement already satisfied: nglview in c:\\anaconda\\lib\\site-packages (3.0.8)\n",
      "Requirement already satisfied: ipywidgets>=7 in c:\\anaconda\\lib\\site-packages (from nglview) (8.0.4)\n",
      "Requirement already satisfied: jupyterlab-widgets in c:\\anaconda\\lib\\site-packages (from nglview) (3.0.5)\n",
      "Requirement already satisfied: numpy in c:\\anaconda\\lib\\site-packages (from nglview) (1.24.3)\n",
      "Requirement already satisfied: ipykernel>=4.5.1 in c:\\anaconda\\lib\\site-packages (from ipywidgets>=7->nglview) (6.19.2)\n",
      "Requirement already satisfied: ipython>=6.1.0 in c:\\anaconda\\lib\\site-packages (from ipywidgets>=7->nglview) (8.12.0)\n",
      "Requirement already satisfied: traitlets>=4.3.1 in c:\\anaconda\\lib\\site-packages (from ipywidgets>=7->nglview) (5.7.1)\n",
      "Requirement already satisfied: widgetsnbextension~=4.0 in c:\\anaconda\\lib\\site-packages (from ipywidgets>=7->nglview) (4.0.5)\n",
      "Requirement already satisfied: comm>=0.1.1 in c:\\anaconda\\lib\\site-packages (from ipykernel>=4.5.1->ipywidgets>=7->nglview) (0.1.2)\n",
      "Requirement already satisfied: debugpy>=1.0 in c:\\anaconda\\lib\\site-packages (from ipykernel>=4.5.1->ipywidgets>=7->nglview) (1.6.7)\n",
      "Requirement already satisfied: jupyter-client>=6.1.12 in c:\\anaconda\\lib\\site-packages (from ipykernel>=4.5.1->ipywidgets>=7->nglview) (7.4.9)\n",
      "Requirement already satisfied: matplotlib-inline>=0.1 in c:\\anaconda\\lib\\site-packages (from ipykernel>=4.5.1->ipywidgets>=7->nglview) (0.1.6)\n",
      "Requirement already satisfied: nest-asyncio in c:\\anaconda\\lib\\site-packages (from ipykernel>=4.5.1->ipywidgets>=7->nglview) (1.5.6)\n",
      "Requirement already satisfied: packaging in c:\\anaconda\\lib\\site-packages (from ipykernel>=4.5.1->ipywidgets>=7->nglview) (23.0)\n",
      "Requirement already satisfied: psutil in c:\\anaconda\\lib\\site-packages (from ipykernel>=4.5.1->ipywidgets>=7->nglview) (5.9.0)\n",
      "Requirement already satisfied: pyzmq>=17 in c:\\anaconda\\lib\\site-packages (from ipykernel>=4.5.1->ipywidgets>=7->nglview) (23.2.0)\n",
      "Requirement already satisfied: tornado>=6.1 in c:\\anaconda\\lib\\site-packages (from ipykernel>=4.5.1->ipywidgets>=7->nglview) (6.3.2)\n",
      "Requirement already satisfied: backcall in c:\\anaconda\\lib\\site-packages (from ipython>=6.1.0->ipywidgets>=7->nglview) (0.2.0)\n",
      "Requirement already satisfied: decorator in c:\\anaconda\\lib\\site-packages (from ipython>=6.1.0->ipywidgets>=7->nglview) (5.1.1)\n",
      "Requirement already satisfied: jedi>=0.16 in c:\\anaconda\\lib\\site-packages (from ipython>=6.1.0->ipywidgets>=7->nglview) (0.18.1)\n",
      "Requirement already satisfied: pickleshare in c:\\anaconda\\lib\\site-packages (from ipython>=6.1.0->ipywidgets>=7->nglview) (0.7.5)\n",
      "Requirement already satisfied: prompt-toolkit!=3.0.37,<3.1.0,>=3.0.30 in c:\\anaconda\\lib\\site-packages (from ipython>=6.1.0->ipywidgets>=7->nglview) (3.0.36)\n",
      "Requirement already satisfied: pygments>=2.4.0 in c:\\anaconda\\lib\\site-packages (from ipython>=6.1.0->ipywidgets>=7->nglview) (2.15.1)\n",
      "Requirement already satisfied: stack-data in c:\\anaconda\\lib\\site-packages (from ipython>=6.1.0->ipywidgets>=7->nglview) (0.2.0)\n",
      "Requirement already satisfied: colorama in c:\\anaconda\\lib\\site-packages (from ipython>=6.1.0->ipywidgets>=7->nglview) (0.4.6)\n",
      "Requirement already satisfied: parso<0.9.0,>=0.8.0 in c:\\anaconda\\lib\\site-packages (from jedi>=0.16->ipython>=6.1.0->ipywidgets>=7->nglview) (0.8.3)\n",
      "Requirement already satisfied: entrypoints in c:\\anaconda\\lib\\site-packages (from jupyter-client>=6.1.12->ipykernel>=4.5.1->ipywidgets>=7->nglview) (0.4)\n",
      "Requirement already satisfied: jupyter-core>=4.9.2 in c:\\anaconda\\lib\\site-packages (from jupyter-client>=6.1.12->ipykernel>=4.5.1->ipywidgets>=7->nglview) (5.3.0)\n",
      "Requirement already satisfied: python-dateutil>=2.8.2 in c:\\anaconda\\lib\\site-packages (from jupyter-client>=6.1.12->ipykernel>=4.5.1->ipywidgets>=7->nglview) (2.8.2)\n",
      "Requirement already satisfied: wcwidth in c:\\anaconda\\lib\\site-packages (from prompt-toolkit!=3.0.37,<3.1.0,>=3.0.30->ipython>=6.1.0->ipywidgets>=7->nglview) (0.2.5)\n",
      "Requirement already satisfied: executing in c:\\anaconda\\lib\\site-packages (from stack-data->ipython>=6.1.0->ipywidgets>=7->nglview) (0.8.3)\n",
      "Requirement already satisfied: asttokens in c:\\anaconda\\lib\\site-packages (from stack-data->ipython>=6.1.0->ipywidgets>=7->nglview) (2.0.5)\n",
      "Requirement already satisfied: pure-eval in c:\\anaconda\\lib\\site-packages (from stack-data->ipython>=6.1.0->ipywidgets>=7->nglview) (0.2.2)\n",
      "Requirement already satisfied: platformdirs>=2.5 in c:\\anaconda\\lib\\site-packages (from jupyter-core>=4.9.2->jupyter-client>=6.1.12->ipykernel>=4.5.1->ipywidgets>=7->nglview) (2.5.2)\n",
      "Requirement already satisfied: pywin32>=300 in c:\\anaconda\\lib\\site-packages (from jupyter-core>=4.9.2->jupyter-client>=6.1.12->ipykernel>=4.5.1->ipywidgets>=7->nglview) (305.1)\n",
      "Requirement already satisfied: six>=1.5 in c:\\anaconda\\lib\\site-packages (from python-dateutil>=2.8.2->jupyter-client>=6.1.12->ipykernel>=4.5.1->ipywidgets>=7->nglview) (1.16.0)\n"
     ]
    }
   ],
   "source": [
    "!pip install nglview"
   ]
  },
  {
   "cell_type": "markdown",
   "id": "758d6ba9",
   "metadata": {},
   "source": [
    "# Protein Visualization"
   ]
  },
  {
   "cell_type": "code",
   "execution_count": 13,
   "id": "172b69cd",
   "metadata": {},
   "outputs": [
    {
     "data": {
      "application/vnd.jupyter.widget-view+json": {
       "model_id": "32b0f3d594654b84ba450fbad3e894f5",
       "version_major": 2,
       "version_minor": 0
      },
      "text/plain": []
     },
     "metadata": {},
     "output_type": "display_data"
    }
   ],
   "source": [
    "import nglview as nv"
   ]
  },
  {
   "cell_type": "code",
   "execution_count": 14,
   "id": "041142a6",
   "metadata": {},
   "outputs": [
    {
     "data": {
      "application/vnd.jupyter.widget-view+json": {
       "model_id": "43ece62417b74df0a8f91fe2c1859ee2",
       "version_major": 2,
       "version_minor": 0
      },
      "text/plain": [
       "NGLWidget()"
      ]
     },
     "metadata": {},
     "output_type": "display_data"
    },
    {
     "data": {
      "application/vnd.jupyter.widget-view+json": {
       "model_id": "9b78c2a23a02498d8db3e3bfc5090565",
       "version_major": 2,
       "version_minor": 0
      },
      "text/plain": [
       "Tab(children=(Box(children=(Box(children=(Box(children=(Label(value='step'), IntSlider(value=1, min=-100)), la…"
      ]
     },
     "metadata": {},
     "output_type": "display_data"
    }
   ],
   "source": [
    "# Now you can use the 'structure' variable with nglview\n",
    "nv.show_biopython(structure, gui=True)\n"
   ]
  }
 ],
 "metadata": {
  "kernelspec": {
   "display_name": "Python 3 (ipykernel)",
   "language": "python",
   "name": "python3"
  },
  "language_info": {
   "codemirror_mode": {
    "name": "ipython",
    "version": 3
   },
   "file_extension": ".py",
   "mimetype": "text/x-python",
   "name": "python",
   "nbconvert_exporter": "python",
   "pygments_lexer": "ipython3",
   "version": "3.11.4"
  }
 },
 "nbformat": 4,
 "nbformat_minor": 5
}
